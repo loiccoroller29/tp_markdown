{
 "cells": [
  {
   "cell_type": "markdown",
   "metadata": {},
   "source": [
    "# Base de donnée par MAMP (internet)"
   ]
  },
  {
   "cell_type": "markdown",
   "metadata": {},
   "source": [
    "Ouvrir MAMP puis MySQL et créé une base de donnée\n",
    "[BDD](page_MySQL.png)"
   ]
  },
  {
   "cell_type": "markdown",
   "metadata": {},
   "source": [
    "écrire le nom de votre BDD dans la zone de texte Database name puis appuyer sur Create"
   ]
  },
  {
   "cell_type": "markdown",
   "metadata": {},
   "source": [
    "### création de d'une table"
   ]
  },
  {
   "cell_type": "markdown",
   "metadata": {},
   "source": [
    "[creationtable](creation_tableau.png)"
   ]
  },
  {
   "cell_type": "markdown",
   "metadata": {},
   "source": [
    "écrire le nom de la table dans Name, choisir le nombre de colonne puis appuyer sur Go"
   ]
  },
  {
   "cell_type": "markdown",
   "metadata": {},
   "source": [
    "### Création des différentes entités"
   ]
  },
  {
   "cell_type": "markdown",
   "metadata": {},
   "source": [
    "[entités](creation_entite.png)"
   ]
  },
  {
   "cell_type": "markdown",
   "metadata": {},
   "source": [
    "1. Mettre le nom de l'entité dans Name\n",
    "\n",
    "2. Choisir le type de l'entité:\n",
    "   - INT: chiffre\n",
    "   - VARCHAR: chaine de caractère\n",
    "   - Date: année, mois, jour (ex: 2022-01-24; 24 janvier 2022)\n",
    "   - Year: année (ex: 2022)\n",
    "   - TIMESTAMP: date et heure auto incrémenté\n",
    "   - TEXT: zone de texte\n",
    "    \n",
    "\n",
    "3. Coché A_I permet de passer l'entité en clé primaire"
   ]
  },
  {
   "cell_type": "markdown",
   "metadata": {},
   "source": [
    "### Creation d'un deuxième tableau"
   ]
  },
  {
   "cell_type": "markdown",
   "metadata": {},
   "source": [
    "[table 2](table2.png)"
   ]
  },
  {
   "cell_type": "markdown",
   "metadata": {},
   "source": [
    "appuyer sur new sur le coté puis choisisser son nom et refaite comme le tableau précédent"
   ]
  },
  {
   "cell_type": "markdown",
   "metadata": {},
   "source": [
    "### Création d'une clé étrangère"
   ]
  },
  {
   "cell_type": "markdown",
   "metadata": {},
   "source": [
    "On peut créer une clé étrangère pour lié deux tableau"
   ]
  },
  {
   "cell_type": "markdown",
   "metadata": {},
   "source": [
    "[clé étrangère](creation_cle_etrangere.png)"
   ]
  },
  {
   "cell_type": "markdown",
   "metadata": {},
   "source": [
    "On va d'abord là où nous avons la clé étrangère. Ici nous allons lié l'entité étranger à la table 2.\n",
    "Pour cela il faut aller dans Relation view"
   ]
  },
  {
   "cell_type": "markdown",
   "metadata": {},
   "source": [
    "[cle](cle_etrangere.png)"
   ]
  },
  {
   "cell_type": "markdown",
   "metadata": {},
   "source": [
    "Il faut choisir la bonne colonne, la database, la table lié et la colonne de celle-ci puis appuyer sur Save"
   ]
  },
  {
   "cell_type": "markdown",
   "metadata": {},
   "source": [
    "Maintenant on peut voire comment sont les tables en allant sur la database puis sur Designer\n",
    "![designer](designer.png)"
   ]
  },
  {
   "cell_type": "markdown",
   "metadata": {},
   "source": [
    "# Base de donnée par l'invite de commande"
   ]
  },
  {
   "cell_type": "markdown",
   "metadata": {},
   "source": [
    "### Connection à MySQL"
   ]
  },
  {
   "cell_type": "markdown",
   "metadata": {},
   "source": [
    "Ouvrir l'invite de commande et ouvrir MAMP.\n",
    "\n",
    "aller dans le bon environnement:\n",
    "`C:\\MAMP\\bin\\mysql\\bin>`\n",
    "\n",
    "pour cela il vous faudra faire un:\n",
    "\n",
    "`C:\\>cd MAMP\n",
    "C:\\>cd bin\n",
    "C:\\>cd mysql\n",
    "C:\\>cd bin`\n",
    "\n",
    "Se connecter à  MySQL avec:\n",
    "`mysql –P 8081 –h localhost -u root –p`\n",
    "\n",
    "Il vous sera demander un mot de passe souvent c'est `root`"
   ]
  },
  {
   "cell_type": "markdown",
   "metadata": {},
   "source": [
    "### Création de la base de donnée"
   ]
  },
  {
   "cell_type": "markdown",
   "metadata": {},
   "source": [
    "Le code est:\n",
    "\n",
    "`CREATE DATABASE nom_dela_base CHARACTER SET ‘utf8’;`"
   ]
  },
  {
   "cell_type": "markdown",
   "metadata": {},
   "source": [
    "On peut utiliser un mot de passe avec:\n",
    "    \n",
    "`GRANT ALL PRIVILEGES ON nom_base.* TO ‘admin’@’localhost’ IDENTIFIED BY ‘mdp’ WITH GRANT OPTION;`"
   ]
  },
  {
   "cell_type": "markdown",
   "metadata": {},
   "source": [
    "### Création de table"
   ]
  },
  {
   "cell_type": "markdown",
   "metadata": {},
   "source": [
    "créer une table:\n",
    "\n",
    "`CREATE TABLE IF NOT EXISTS table1(\n",
    "colonne1 INT AUTO_INCREMENT,\n",
    "colonne2 VARCHAR(40) DEFAULT ‘default’,\n",
    "colonne3 CHAR(1),\n",
    "colonne4 DATETIME NOT NULL,\n",
    "PRIMARY KEY(colonne1)\n",
    ")ENGINE=INNODB;`"
   ]
  },
  {
   "cell_type": "markdown",
   "metadata": {},
   "source": [
    "crée une autre table:\n",
    "    \n",
    "`CREATE TABLE table2(\n",
    "colonne1 INT AUTO_INCREMENT,\n",
    "colonne2 VARCHAR(30),\n",
    "colonne3 VARCHAR(20),\n",
    "colonne4 YEAR,\n",
    "-> PRIMARY KEY(user_id));`"
   ]
  },
  {
   "cell_type": "markdown",
   "metadata": {},
   "source": [
    "Pour modifier la table:\n",
    "\n",
    "`ALTER TABLE table2 ADD COLUMN colonne5 INT;` ajoute la colonne 5\n",
    "\n",
    "`ALTER TABLE table2 DROP COLUMN colonne3 ;` supprime la colonne 3\n",
    "\n",
    "`ALTER TABLE table2 CHANGE colonne2 colonne2.0 VARCHAR(10);` change le nom de colonne 2 en colonne 2.0\n",
    "\n",
    "`ALTER TABLE table2 MODIFY colonne_1 INT UNSIGNED NOT NULL;` change le type de la colonne 1 en INT unsigned non null\n",
    "\n",
    "`ALTER TABLE table2 DROP PRIMARY KEY;` supprime la clé primaire\n",
    "\n",
    "`ALTER TABLE table2 ADD PRIMARY KEY(colonne5);` ajoute une clé primaire à la colonne 5"
   ]
  },
  {
   "cell_type": "markdown",
   "metadata": {},
   "source": [
    "On peut aussi supprimer un table:\n",
    "\n",
    "`DROP TABLE table2;` supprime la table 2"
   ]
  },
  {
   "cell_type": "markdown",
   "metadata": {},
   "source": [
    "Et pour les voire une fois fini:\n",
    "\n",
    "`SHOW TABLES;` permet de voire toute les tables créées\n",
    "\n",
    "`DESCRIBE table2;` permet de voire la table 2"
   ]
  },
  {
   "cell_type": "markdown",
   "metadata": {},
   "source": [
    "### Création de la clé étrangère"
   ]
  },
  {
   "cell_type": "markdown",
   "metadata": {},
   "source": [
    "`ALTER TABLE table2 ADD CONSTRAINT contrainte1 FOREIGN KEY (colonne5) REFERENCES table1(colonne1);`\n",
    "\n",
    "On met une clé étrangère sur la table 2 sur la colonne 5 qui est lié à la colonne 1 de la table 1. on lui donne le nom de contrainte1"
   ]
  },
  {
   "cell_type": "markdown",
   "metadata": {},
   "source": [
    "on peut aussi supprimer la clé étrangère:\n",
    "    \n",
    "`ALTER TABLE table2 DROP FOREIGN KEY contrainte1;`\n",
    "\n",
    "On supprime la clé étrangère du nom de contrainte1 sur la table 2"
   ]
  }
 ],
 "metadata": {
  "kernelspec": {
   "display_name": "Python 3",
   "language": "python",
   "name": "python3"
  },
  "language_info": {
   "codemirror_mode": {
    "name": "ipython",
    "version": 3
   },
   "file_extension": ".py",
   "mimetype": "text/x-python",
   "name": "python",
   "nbconvert_exporter": "python",
   "pygments_lexer": "ipython3",
   "version": "3.7.11"
  }
 },
 "nbformat": 4,
 "nbformat_minor": 4
}
